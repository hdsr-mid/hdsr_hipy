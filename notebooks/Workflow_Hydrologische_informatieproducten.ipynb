{
 "cells": [
  {
   "cell_type": "markdown",
   "id": "54c4786e",
   "metadata": {},
   "source": [
    "# Hydrologische informatieproducten HDSR"
   ]
  },
  {
   "cell_type": "markdown",
   "id": "b5301aaa",
   "metadata": {},
   "source": [
    "Dit notebook bevat een workflow om geautomatiseerd een aantal hydrologische informatieproducten af te leiden uit modeluitvoer. "
   ]
  },
  {
   "cell_type": "markdown",
   "id": "dcf1e191",
   "metadata": {},
   "source": [
    "## Inhoudsopgave\n",
    "* [1. Voorbereiding](#voorbereiding)\n",
    "* [2. Brondata](#brondata)\n",
    "   * [2.1 Meteorologische forcering](#forcering)\n",
    "       * [2.1.1 KLimaatscenario's](#scenarios)\n",
    "       * [2.1.2 Historische gegevens](#historie)\n",
    "   * [2.2 Hydromedah](#hydromedah)\n",
    "   * [2.3 Mozart](#mozart)\n",
    "* [3. Informatieproducten](#producten)\n",
    "    * [3.1 Watervraag- en aanbod](#vraagaanbod)\n",
    "    * [3.2 Maatgevende af- en aanvoer](#maatgevendeafaanvoer)    \n",
    "    * [3.3 GxG's](#gxg)        \n",
    "    * [3.4 Kwel/wegzijging](#kwelwegzijging)\n",
    "    * [3.5 Rivierkwel](#rivierkwel)    \n",
    "    * [3.6 Runoff karakteristieken](#runoff)\n",
    "        * [3.6.1 AHN analyses](#runoff_ahn)\n",
    "        * [3.6.2 Hydromedah analyses](#runoff_hydromedah)"
   ]
  },
  {
   "cell_type": "markdown",
   "id": "8fa39834",
   "metadata": {},
   "source": [
    "<a id=\"voorbereiding\"/>"
   ]
  },
  {
   "cell_type": "markdown",
   "id": "258fe724",
   "metadata": {},
   "source": [
    "# 1. Voorbereiding "
   ]
  },
  {
   "cell_type": "markdown",
   "id": "1733bc80",
   "metadata": {},
   "source": [
    "We hebben een aantal paden nodig die hier kunnen worden aangepast:"
   ]
  },
  {
   "cell_type": "code",
   "execution_count": 15,
   "id": "c3642772",
   "metadata": {},
   "outputs": [],
   "source": [
    "# De locatie waar hdsrshipy vanuit github is gedownload. Standaard is dit een niveau hoger dan dit notebook.\n",
    "import os\n",
    "package_path = os.path.abspath('../')\n",
    "\n",
    "# De locatie waar de template-schematisatie van Hydromedah staat en waar ook de uitvoer wordt gegenereerd. \n",
    "# Ook historische mete-bestanden (uit WIWB) worden hier ook geplaastst. Let op: hier is relatief veel schijfruimte (~40 GB) voor nodig!\n",
    "hydromedah_path = r'D:\\4569.20\\hdsrhipy_compleet\\data\\Hydromedah'#os.path.abspath('../data/hydromedah')\n",
    "\n",
    "# KNMI klimaatscenario's worden niet noodzakelijkerwijs op dezelfde locatie geplaatst. Dit is het pad waar ze worden gedownload.\n",
    "scenario_path = os.path.abspath('../data/scenarios')\n",
    "\n",
    "# pad met validatiedata\n",
    "data_path = os.path.abspath('../data/')\n",
    "\n",
    "# De locatie waar de informatieproducten worden geplaastst.\n",
    "export_path = os.path.abspath(r'D:\\4569.20\\hdsrhipy_compleet\\results')"
   ]
  },
  {
   "cell_type": "markdown",
   "id": "2095a25e",
   "metadata": {},
   "source": [
    "Laad een aantal externe benodigde bibliotheken en de klassen van het hdsrhipy-pakket."
   ]
  },
  {
   "cell_type": "code",
   "execution_count": 26,
   "id": "7ed96b7f",
   "metadata": {},
   "outputs": [],
   "source": [
    "import sys\n",
    "import shutil\n",
    "import ipywidgets\n",
    "from pathlib import Path\n",
    "import numpy as np\n",
    "import pandas as pd\n",
    "from tqdm import tqdm\n",
    "import geopandas as gpd\n",
    "import matplotlib\n",
    "import matplotlib.pyplot as plt\n",
    "from mpl_toolkits.axes_grid1 import make_axes_locatable\n",
    "import contextily as cx\n",
    "matplotlib.rcParams['figure.figsize'] = [15, 10]\n",
    "get_ipython().run_line_magic('matplotlib', 'inline')\n",
    "sys.path.append(package_path)  \n",
    "from hdsrhipy import Meteorology\n",
    "from hdsrhipy import Hydromedah\n",
    "from hdsrhipy import Groundwater\n",
    "from hdsrhipy import Maatgevend\n",
    "from hdsrhipy import WatervraagAanbod\n",
    "from hdsrhipy import Runoff\n",
    "from hdsrhipy import FlowStats\n",
    "from hdsrhipy.core.nauwkeurigheid import *\n"
   ]
  },
  {
   "cell_type": "markdown",
   "id": "217a805e",
   "metadata": {},
   "source": [
    "<a id='brondata'/>\n"
   ]
  },
  {
   "cell_type": "markdown",
   "id": "03a5a01b",
   "metadata": {},
   "source": [
    "# 2. Brondata "
   ]
  },
  {
   "cell_type": "markdown",
   "id": "e6bd8f14",
   "metadata": {},
   "source": [
    "<a id='forcering'/>"
   ]
  },
  {
   "cell_type": "markdown",
   "id": "9ac736f9",
   "metadata": {},
   "source": [
    "## 2.1 Meteorologische forcering "
   ]
  },
  {
   "cell_type": "markdown",
   "id": "76f0f064",
   "metadata": {},
   "source": [
    "<a id='scenarios'/>"
   ]
  },
  {
   "cell_type": "markdown",
   "id": "d20a6602",
   "metadata": {},
   "source": [
    "### 2.1.1. Klimaatscenario's"
   ]
  },
  {
   "cell_type": "markdown",
   "id": "249bed32",
   "metadata": {},
   "source": [
    "Rasters voor de gewenste klimaatscenario's zijn te downloaden via het KNMI Data Platform (KDP; https://dataplatform.knmi.nl/). Voor kleine hoeveelheden data is een 'open-data key' beschikaar, maar voor het downloaden van een complete dataset (zoals 30 jaar aan dagelijkse data) is een dedicated 'key' nodig die is te krijgen via [dataservices@knmi.nl](mailto:dataservices@knmi.nl). Als in onderstaand commando geen key wordt meegeven ('key=None') wordt de open-data-key gebruikt.\n",
    "\n",
    "Voor nu zijn de scenario's voor zichtjaar 2085 gedownload. De database die beschikbaar is via de KNMI API-bevat een fout; de referentieverdamping voor het scenarios GL klopt namelijk niet (bleek uit communicatie met KNMI). Voor nu zijn dus de overige drie scenario's gedownload. Als de fout is opgelost kan op onderstaande wijze (en een aparte key) het resterende scenario worden klaargezet.\n",
    "\n",
    "We bevelen aan in onderstaande alleen de paden aan te passen en, afhankelijk van de dataset, dataset_name en dataset_version. Voor de juiste combinaties: zie bovenstaande website."
   ]
  },
  {
   "cell_type": "code",
   "execution_count": 4,
   "id": "49e36b83",
   "metadata": {},
   "outputs": [],
   "source": [
    "meteo = Meteorology()\n",
    "# zet aan d.m.v. True\n",
    "if False:    \n",
    "    # er zit volgens KNMI nog een fout in het GL scenario, dus download deze zes scenario's\n",
    "    datasets = ['RD85WL', 'EV85WL','RD85WH','EV85WH','RD85GH','EV85GH']\n",
    "    for dat in datasets:\n",
    "        if dat.startswith('RD'):\n",
    "            var = 'precipitation'\n",
    "        elif dat.startswith('EV'):\n",
    "            var = 'evaporation'\n",
    "        \n",
    "        # het moet in stukjes, want de API ondersteunt max. 1000 files per keer. Dus we doen 1 jaar per bevraging.\n",
    "        for y in range(2070,2100):        \n",
    "            print('Downloading '+dat+'for '+str(y)+'...')\n",
    "            start = 'INTER_OPER_R___'+dat+'__L3__'+str(y)+'0101T080000_'+str(y)+'0102T080000_0014.nc'\n",
    "            meteo.download_from_KNMI(api_key=None, variable=var, dataset_name=dat, dataset_version='014', max_keys=366, start_after=start, download_path = Path(scenario_path,dat))"
   ]
  },
  {
   "cell_type": "markdown",
   "id": "f39016ee",
   "metadata": {},
   "source": [
    "<a id='historie'/>"
   ]
  },
  {
   "cell_type": "markdown",
   "id": "2e686d98",
   "metadata": {},
   "source": [
    "\n",
    "### 2.2.2 Historische data"
   ]
  },
  {
   "cell_type": "markdown",
   "id": "fc602989",
   "metadata": {},
   "source": [
    "Historische gegevens van neerslag(radar) en referentiegewasverdamping (Makkink) halen we uit WIWB. Hier is voor de gewenste periode geen doorlopend product beschikbaar, dus we downloaden Meteobase neerslag voor jaren t/m 2018 en IRC Final reanalysis daarna. Makkink is voor de gehele periode beschikbaar. Het IRC-grid vereist enkele extra bewerkingen, hier wordt het geresampled naar het oorspronkelijke Meteobase raster voor consistentie.\n",
    "\n",
    "Onderstaande functies ondersteunen voor nu alleen de variabelen 'precpitation' en 'evaporation' (referentiegewasverdamping). Start- en eindtijd dienen ingevuld te worden zoals onderstaand en de tijdstap is een combinatie van een cijfer en een letter: '1D' staat voor 1 dag, '6H' voor 6 uur. Hier is alleen 1D van toepassing. Niet alle combinaties zijn geldig en getest."
   ]
  },
  {
   "cell_type": "code",
   "execution_count": 5,
   "id": "05b97a91",
   "metadata": {},
   "outputs": [],
   "source": [
    "# WIWB credentials:\n",
    "#credentials = (<HDSR_USERNAME>, <HDSR_PASSWORD>)\n",
    "\n",
    "if False:\n",
    "    # Meteobase neerslag t/m 2018\n",
    "    meteo.download_from_WIWB(credentials=credentials, datasource='Meteobase.Precipitation', variable='precipitation', start='20100101000000', end='20190101000000', timestep='1D', download_path = Path(hydromedah_path))\n",
    "    # Makkink verdamping\n",
    "    meteo.download_from_WIWB(credentials=credentials, datasource='Meteobase.Evaporation.Makkink', variable='evaporation', start='20100101000000', end='20210101000000', timestep='1D', download_path = Path(hydromedah_path))\n",
    "    # IRC vanaf 2019\n",
    "    meteo.download_from_WIWB(credentials=credentials, datasource='Knmi.International.Radar.Composite.Final.Reanalysis', variable='precipitation', start='20190101000000', end='20210101000000', timestep='1D', download_path = Path(hydromedah_path))"
   ]
  },
  {
   "cell_type": "markdown",
   "id": "bbfdad55",
   "metadata": {},
   "source": [
    "<a id='hydromedah'/>"
   ]
  },
  {
   "cell_type": "markdown",
   "id": "c4349aad",
   "metadata": {},
   "source": [
    "Het is ook mogelijk forcering klaar te zetten vanuit lokale NetCDF-betanden, via onderstaande functie. Hier is nc_path het pad waar de lokale bestanden staan en hydromedah_path (mag ook iets anders zijn), het pad waar de uitvoerbestanden worden geplaatst. dsvar is de naam in het netcdf-bestand. Als daarin geen schaalfactor van toepassing is, kan scaling_factor op 1 gezet worden (in dit geval is de eenheid 0.01 mm/d). het 3e argument wordt gebruikt voor de naamgeving van de uitvoer ascii-bestanden, die Hydromedah vervolgens inleest."
   ]
  },
  {
   "cell_type": "code",
   "execution_count": 6,
   "id": "84d9bb64",
   "metadata": {},
   "outputs": [],
   "source": [
    "if False:\n",
    "    # dit is een voorbeeld\n",
    "    nc_path = Path(r'D:\\4569.10\\nonapi_forcering')\n",
    "    meteo.from_netcdf(nc_path, hydromedah_path, 'evaporation', 'Days', dsvar='Evaporation', scaling_factor= 0.01)"
   ]
  },
  {
   "cell_type": "markdown",
   "id": "af42eafe",
   "metadata": {},
   "source": [
    "<a id='hydromedah'>"
   ]
  },
  {
   "cell_type": "markdown",
   "id": "99620375",
   "metadata": {},
   "source": [
    "# 2.2 Hydromedah "
   ]
  },
  {
   "cell_type": "markdown",
   "id": "442fca8f",
   "metadata": {},
   "source": [
    "Als de juiste forceringsdata is gedownload, kan Hydromedah gedraaid worden met de gedownloade data. Eerst dient een naam voor de berekening te worden gekozen. Vervolgens wordt een kopie gemaakt in '<hydromedah_path>/work/<name>' waar dan uitvoer verschijnt in een map met die naam. Voor het doen van een run zijn, afhankelijke van de periode, tot tientallen GB's aan schijfruimte nodig."
   ]
  },
  {
   "cell_type": "code",
   "execution_count": 11,
   "id": "89c1457a",
   "metadata": {},
   "outputs": [],
   "source": [
    "name=\"Huidig250\"\n",
    "\n",
    "\n",
    "# voor deze variabelen wordt Metaswap uitvoer weggeschreven\n",
    "msw_vars = ['ETact','S01','Ssd01', 'qinf']\n",
    "\n",
    "# maak een Hydromedah object aan. Precip_path en evap_path gaan uit van de 'root' van het pad en gaat ervanuit dat 'forcing/precipiation' of 'forcing/evaporation' worden toegevoegd.\n",
    "# dus voor historische data:\n",
    "hydromedah = Hydromedah(hydromedah_path=hydromedah_path, name=name, precip_path=hydromedah_path, evap_path=hydromedah_path)\n",
    "if False:    \n",
    "    # klimaatscenario's:\n",
    "    # hydromedah = Hydromedah(data_path=hydromedah_path, name=name, precip_path=os.path.join(scenario_path,'RD85WH'), evap_path=os.path.join(scenario_path,'EV85WH'))\n",
    "    # hydromedah = Hydromedah(data_path=hydromedah_path, name=name, precip_path=os.path.join(scenario_path,'RD85WL'), evap_path=os.path.join(scenario_path,'EV85WL'))\n",
    "    # hydromedah = Hydromedah(data_path=hydromedah_path, name=name, precip_path=os.path.join(scenario_path,'RD85GH'), evap_path=os.path.join(scenario_path,'EV85GH'))\n",
    "    \n",
    "    # zet het model klaar met deze eigenschappen. Het ruimtelijke domein is hard gecodeerd naar het HDSR-gebied. \n",
    "    hydromedah.setup_model(    start_date='2010-01-01', \n",
    "                               end_date='2021-07-31', \n",
    "                               resolution=250., \n",
    "                               add_surface_water=True, \n",
    "                               afw_shape = 'Afwateringseenheden', \n",
    "                               metaswap_vars = msw_vars,\n",
    "                               use_existing_simgro=Path(hydromedah_path) / 'use_simgro',\n",
    "                               firstrun=True) # dit alleen True als het de eerste run is, hiermee wordt de database uitgepakt.\n",
    "    \n",
    "    hydromedah.run_model(model_path=hydromedah_path, silent=True)\n",
    "\n",
    "    # haal de lateralen op uit het model...\n",
    "    laterals = hydromedah.read_laterals(model_path=hydromedah_path, model_name=name, msw_file='sw_dtgw')\n",
    "\n",
    "    # en schrijf ze naar een csv.\n",
    "    laterals.to_csv(os.path.join(export_path,'Maatgevend','laterals_'+name+'.csv'),sep=\",\")\n",
    "    \n",
    "    # Modeluitvoer is groot en we hebben lang niet alles nodig.  \n",
    "    # Specifeer de variabelen en lagen die BEWAARD moeten blijven. Uit metaswap worden enkele grote CSV's en resterende binaire bestanden verwijderd.\n",
    "    hydromedah.cleanup(model_path=hydromedah_path, name=name, \n",
    "                       modflow_vars = ['head','bdgflf'], \n",
    "                       modflow_layers = [1], \n",
    "                       metaswap_files = ['sw_dtgw'])                 "
   ]
  },
  {
   "cell_type": "markdown",
   "id": "064e5dac-a996-44e3-9ea4-c5ed70c7e9d3",
   "metadata": {},
   "source": [
    "## Converteer lateralen uit HYDROMEDAH naar een LATERAL.DAT voor SOBEK"
   ]
  },
  {
   "cell_type": "code",
   "execution_count": 19,
   "id": "e18486b3-e4f0-48fc-9365-4c2e031eee33",
   "metadata": {},
   "outputs": [
    {
     "name": "stdout",
     "output_type": "stream",
     "text": [
      "Reading input...\n",
      "Kromme rijn debiet of 4.0 applied to PG0026-3\n",
      "Extra droogval toepassen voor lat_id PG0034-1 (gekoppeld aan reach H013921_1 distance = 1002.84 m\n",
      "Extra droogval toepassen voor lat_id PG0557-1 (gekoppeld aan reach kw_H065397_s1 distance = 124.72 m\n",
      "Extra droogval toepassen voor lat_id PG0599-1 (gekoppeld aan reach H013921_1 distance = 343.20 m\n",
      "Extra droogval toepassen voor lat_id PG0756-1 (gekoppeld aan reach H044390_1 distance = 146.38 m\n",
      "Extra droogval toepassen voor lat_id PG0778-1 (gekoppeld aan reach H044390_1 distance = 204.32 m\n",
      "Extra droogval toepassen voor lat_id PG2064-2 (gekoppeld aan reach H006663_1_s3 distance = 442.75 m\n",
      "Try to adjust PG2151-3, but it is not in Hydromedah output.\n",
      "Extra droogval toepassen voor PG2151-3 based on rational method\n",
      "Extra droogval toepassen voor lat_id PG2160-3 (gekoppeld aan reach kw_H000315_2_1 distance = 381.59 m\n",
      "Extra droogval toepassen voor lat_id PG2160-5 (gekoppeld aan reach kw_H000315_2_1 distance = 367.71 m\n",
      "Extra droogval toepassen voor lat_id PG2177-1 (gekoppeld aan reach H013921_1 distance = 625.98 m\n"
     ]
    }
   ],
   "source": [
    "# laterals to lateral.dat\n",
    "template_path = r'D:\\4569.20\\hdsrhipy_compleet\\templates'\n",
    "sobek_path = os.path.join(export_path, 'LATERAL.DAT')\n",
    "csv_path  = os.path.join(export_path,'laterals_'+name+'.csv')\n",
    "reaches_to_adjust = {'H013921_1':['PG0599-1','PG0034-1','PG2177-1'],\n",
    "                                'kw_H000315_2_1':['PG2160-3','PG2160-5','PG2151-3'],\n",
    "                                'H044390_1':['PG0756-1','PG0778-1'],\n",
    "                                'kw_H065397_s1':['PG0557-1'],\n",
    "                                'H006663_1_s3': ['PG2064-2', 'PG006-2']                    \n",
    "                            }   \n",
    "hydromedah.laterals2sobek(csv_path=csv_path, template_path=template_path, sobek_path=sobek_path,reaches_to_adjust=reaches_to_adjust)\n"
   ]
  },
  {
   "cell_type": "markdown",
   "id": "cfbb6c0d-ee49-4481-bea8-6c233d41bc82",
   "metadata": {},
   "source": [
    "## Bereken debietstatstieken op basis van Sobek resultaten"
   ]
  },
  {
   "cell_type": "markdown",
   "id": "93cb7ea4-68c1-4b03-87d3-4086d1aa0a02",
   "metadata": {},
   "source": [
    "De Sobek berekeningen zelf vergen veel tijd en zijn niet haalbaar om binnen deze omgeving te draaien.\n",
    "\n",
    "In dit geval zijn de berekeningen gesplitst in periodes van 13 maanden (steeds 1 maand inlooptijd), welke parallel zijn doorgerekend. We hebben dus nu 12 cases met daarin 12 Sobek uitvoerbestanden, die we gaan combineren om de statistieken uit te lezen."
   ]
  },
  {
   "cell_type": "markdown",
   "id": "e6f4ce30-7e17-4094-9bd3-e4e0bbe30e23",
   "metadata": {},
   "source": [
    "Het model is doorgerekend in 12 delen, met elk een case. We gebruiken ze allemaal:"
   ]
  },
  {
   "cell_type": "code",
   "execution_count": 31,
   "id": "9bdd3a82-0bf8-4947-b204-567eae2ad273",
   "metadata": {},
   "outputs": [],
   "source": [
    "cases = range(1,13)\n",
    "hisfiles = r'D:\\4569.20\\testout_sobek\\MOD_ADJ_V4.lit'"
   ]
  },
  {
   "cell_type": "markdown",
   "id": "3f55810c-4abd-4875-a8a6-4be58703760f",
   "metadata": {},
   "source": [
    "Dit zijn de settings voor de debietstatistiek:"
   ]
  },
  {
   "cell_type": "code",
   "execution_count": 32,
   "id": "25f49b0a-6e22-4878-a376-e2d25f3571dc",
   "metadata": {},
   "outputs": [],
   "source": [
    "# maanden in het jaar om statistiek over te berekenen. De maand- en dag van deze periode wordt gebruikt om te bepalen of de dag moet worden meegenomen\n",
    "period = pd.date_range(start=pd.Timestamp('1900-05-15'),end=pd.Timestamp('1900-09-15'), freq='D')\n",
    "\n",
    "# de 'name' wordt gebruikt als kolom in de shapefile, de waarde is het debiet (m3/s) om te bepalen hoe vaak het wordt overschreden. Het resultaat is het aantal dagen.\n",
    "overschrijdingsduur_van_debiet = {'name': 'Ex5-9_005',  'value': 0.05}\n",
    "# Idem, maar nu is het resultaat de fractie van de tijd dat de waarde wordt overschreden\n",
    "relatieve_overschrijdingsduur_van_debiet = {'name': 'REx5-9_005',  'value': 0.05}\n",
    "# en dit geeft het debiet dat x % van de tijd wordt overschreden\n",
    "debiet_bij_tijdpercentiel = {'name': 'Q5-9_80%',  'value': 0.8}"
   ]
  },
  {
   "cell_type": "markdown",
   "id": "66dbca03-1bc1-4071-96d0-839dd3afaae6",
   "metadata": {},
   "source": [
    "Het resultaat is een shapefile 'flowstats.shp' met alle watergangen. De statistieken zijn als kolommen opgenomen in de shapefile. Naast bovenstaande zijn dat gemiddelde en variantie."
   ]
  },
  {
   "cell_type": "code",
   "execution_count": 33,
   "id": "1e10f33d-8717-49dc-89a9-68071fb042b0",
   "metadata": {},
   "outputs": [],
   "source": [
    "flowstats = FlowStats(sobek_path=hisfiles, template_path=template_path, export_path=os.path.join(export_path, 'flowstats.shp'))\n",
    "flowstats.get_flowstats(cases2join=cases, period=period, overschrijdingsduur_van_debiet=overschrijdingsduur_van_debiet, relatieve_overschrijdingsduur_van_debiet=relatieve_overschrijdingsduur_van_debiet,debiet_bij_tijdpercentiel=debiet_bij_tijdpercentiel)\n"
   ]
  },
  {
   "cell_type": "markdown",
   "id": "9357cfde",
   "metadata": {},
   "source": [
    "<a id='mozart'/>"
   ]
  },
  {
   "cell_type": "markdown",
   "id": "7c4d2af0",
   "metadata": {},
   "source": [
    "## 2.3 Mozart"
   ]
  },
  {
   "cell_type": "markdown",
   "id": "0ee9daac",
   "metadata": {},
   "source": [
    "Het LHM is het geïntegreerd landsdekkend grond- en oppervlaktewatermodel van Nederland. In dit script richten we ons op de uitvoer van het deelmodel Mozart, dat de watervraag, het wateraanbod en het watertekort voor het regionale oppervlaktewatersysteem in beeld brengt. Mozart simuleert voor kleine stroomgebieden de waterbalans van het oppervlaktewatersysteem, zie Figuur 1. Deze stroomgebieden (ook bekend als LSW’s, Local Surface Waters). We gebruiken de modeluitvoer die gebruikt is voor de validatie van het LHM 4.1. Deze gegevens zijn inzichtelijk via: https://nhi.nu/nl/index.php/modellen/lhm/nhi-lhm/v41/.\n",
    "\n",
    "De toekomstige ontwikkeling van de watervraag en het wateraanbod wordt bepaald met klimaatscenario’s. De KNMI’14-scenario’s zijn afgeleid van de mondiale scenario’s van het IPCC en worden in Nederland door alle waterbeheerders gebruikt in besluitvorming over klimaat-gerelateerde opgaves. Via de Helpdesk Water zijn de basisprognoses 2018 beschikbaar. Deze prognoses bevatten o.a. Mozart-modelruns voor de KNMI’14-scenario’s. Op basis van deze modeluitvoer wordt een factor bepaald tussen de referentiemodelrun en een klimaatscenario-run. Deze factor wordt vervolgens gebruikt om de toekomstige ontwikkeling van de watervraag en het wateraanbod te bepalen."
   ]
  },
  {
   "cell_type": "markdown",
   "id": "1abbcd5d",
   "metadata": {},
   "source": [
    "<a id='producten'/>"
   ]
  },
  {
   "cell_type": "markdown",
   "id": "f23ede52",
   "metadata": {},
   "source": [
    "# 3 Producten"
   ]
  },
  {
   "cell_type": "markdown",
   "id": "c49450c6",
   "metadata": {},
   "source": [
    "<a id='vraagaanbod'/>"
   ]
  },
  {
   "cell_type": "markdown",
   "id": "e5019c1a",
   "metadata": {},
   "source": [
    "## 3.1 Watervraag- en aanbod"
   ]
  },
  {
   "cell_type": "markdown",
   "id": "81e75bed",
   "metadata": {},
   "source": [
    "Deze sectie schaalt Mozart-uitvoer van LSW-schaal naar peilgebieden-schaal.\n",
    "Daarnaast wordt de onzekerheid van de schaling in kaart gebracht door het toekennen van een onzekerheidsfactor op de top10nl-oppervlakten.\n",
    "Ook wordt door middel van de basisprognoses een factor toegekend om zo de verandering van de watervraag, -aanbod en -tekort in de toekomst in beeld te brengen.\n",
    "\n",
    "De volgende gegevens worden gebruikt in deze analyse:\n",
    "* Topografische basisbestand : top10nl\n",
    "* Uitvoer Mozart: Validatie LHM 4.1 (periode 2011-2020)\n",
    "* Peilgebieden: data Hoogheemraadschap De Stichtse Rijnlanden\n",
    "* Toekomstscenarios: Basisprognoses DPZW\n",
    "\n",
    "Allereerst worden alle bestandsnamen gedefinieerd:"
   ]
  },
  {
   "cell_type": "code",
   "execution_count": 3,
   "id": "dde5976d-c056-46d5-b9d5-48aa368c062d",
   "metadata": {},
   "outputs": [],
   "source": [
    "# definitie van een dictionary voor de bestandsnamen\n",
    "fNames = dict()\n",
    "\n",
    "# top10nl\n",
    "#fNames['top10nl'] = os.path.join(data_path, 'gis', 'top10nl_terrein_water_weg.gpkg')\n",
    "fNames['top10nl'] = r'd:\\projecten\\hydrologische_informatieproducten\\werkmap\\data\\top10nl\\clip\\top10nl_terrein_water_weg.gpkg'\n",
    "\n",
    "# koppelcodes top10nl en Mozart\n",
    "#fNames['top10nl_koppeling'] = os.path.join(data_path,'mozart','koppeling_top10nl_mozart.xlsx')\n",
    "fNames['top10nl_koppeling'] = r'd:\\projecten\\hydrologische_informatieproducten\\werkmap\\data\\top10nl\\koppeling_top10nl_mozart.xlsx'\n",
    "\n",
    "# LSW-polygonen\n",
    "#fNames['lsw'] = os.path.join(data_path, 'gis', 'lsw_hdsr_large.shp')\n",
    "fNames['lsw'] = r'd:\\projecten\\hydrologische_informatieproducten\\werkmap\\data\\geo\\lsw\\lsw_hdsr_large.shp'\n",
    "\n",
    "# afwateringseenheden\n",
    "#fNames['afwateringseenheden'] = os.path.join(data_path, 'gis','afwateringseenheden.shp')\n",
    "fNames['afwateringseenheden'] = r'd:\\projecten\\hydrologische_informatieproducten\\werkmap\\data\\GISdata\\afwateringseenheden.shp'\n",
    "\n",
    "# uitvoer mozart\n",
    "#fNames['mozart_out'] =  os.path.join(data_path, 'mozart','lswwaterbalans.out')\n",
    "fNames['mozart_out'] =  r'd:\\projecten\\hydrologische_informatieproducten\\werkmap\\data\\mozart\\lswwaterbalans.out'\n",
    "\n",
    "# definieren van resultaatmappen\n",
    "ref_dir = os.path.join(export_path,'watervraagaanbod','referentie')\n",
    "min5_dir = os.path.join(export_path,'watervraagaanbod','min5')\n",
    "plus5_dir = os.path.join(export_path,'watervraagaanbod','plus5')\n",
    "if not os.path.exists(ref_dir):\n",
    "    os.makedirs(ref_dir)\n",
    "    os.makedirs(min5_dir)\n",
    "    os.makedirs(plus5_dir)"
   ]
  },
  {
   "cell_type": "markdown",
   "id": "69f7c3ff-049a-4694-b97d-d2b63c32d1cb",
   "metadata": {},
   "source": [
    "Vervolgens worden alle data ingelezen door het initieren van de WatervraagAanbod-klassen. \n",
    "Er worden drie instanties gemaakt: een referentie-analyse en twee analyses voor het bepalen van de onzekerheid van de analyse.\n",
    "\n",
    "Ook wordt het schaalniveau bepaald. In het voorbeeld schalen we de LSW-gegevens naar afwateringseenhedenniveau."
   ]
  },
  {
   "cell_type": "code",
   "execution_count": 4,
   "id": "f431f05a-8733-4cb7-88da-9361209836e8",
   "metadata": {},
   "outputs": [
    {
     "name": "stdout",
     "output_type": "stream",
     "text": [
      "Data correct ingeladen.\n",
      "Data correct ingeladen.\n",
      "Data correct ingeladen.\n"
     ]
    }
   ],
   "source": [
    "referentie = WatervraagAanbod(fNames)\n",
    "ref_min5 = WatervraagAanbod(fNames)\n",
    "ref_plus5 = WatervraagAanbod(fNames)\n",
    "\n",
    "# bepaal interessegebieden\n",
    "referentie.invoerdata['schaalgebied'] = referentie.invoerdata['afwateringseenheden']\n",
    "ref_min5.invoerdata['schaalgebied'] = ref_min5.invoerdata['afwateringseenheden']\n",
    "ref_plus5.invoerdata['schaalgebied'] = ref_plus5.invoerdata['afwateringseenheden']\n"
   ]
  },
  {
   "cell_type": "markdown",
   "id": "11dfc56a-2c7a-4530-8854-79f6bead84fb",
   "metadata": {},
   "source": [
    "Vervolgens wordt de schaling voor elke LSW uitgevoerd en de resultaten weggeschreven naar csv-bestanden:"
   ]
  },
  {
   "cell_type": "code",
   "execution_count": 5,
   "id": "4f16078a-f033-44e8-809a-a4a99f425815",
   "metadata": {},
   "outputs": [
    {
     "name": "stdout",
     "output_type": "stream",
     "text": [
      "Uitvoeren schaling lsw's naar schaalgebieden\n"
     ]
    },
    {
     "data": {
      "application/vnd.jupyter.widget-view+json": {
       "model_id": "063d7d53f17d4ed8b8050abac1a87260",
       "version_major": 2,
       "version_minor": 0
      },
      "text/plain": [
       "0it [00:00, ?it/s]"
      ]
     },
     "metadata": {},
     "output_type": "display_data"
    }
   ],
   "source": [
    "# verkrijg de LSW-nummers\n",
    "lswNrs = referentie.invoerdata['lsws']['LSWFINAL']\n",
    "\n",
    "print(\"Uitvoeren schaling lsw's naar schaalgebieden\")\n",
    "for _, lsw_nr in tqdm(lswNrs[:].iteritems()):\n",
    "\n",
    "    # voer referentieanalyse uit\n",
    "    referentie.uitvoeren_schaling(lsw_nr, onzekerheid_opp=0)\n",
    "\n",
    "    # definieer onzekerheid oppervlaktes top10nl\n",
    "    ref_min5.uitvoeren_schaling(lsw_nr, onzekerheid_opp=-0.05)\n",
    "    ref_plus5.uitvoeren_schaling(lsw_nr, onzekerheid_opp=0.05)\n",
    "\n",
    "referentie.schaling_naar_csv(ref_dir)\n",
    "ref_min5.schaling_naar_csv(min5_dir) \n",
    "ref_plus5.schaling_naar_csv(plus5_dir)\n"
   ]
  },
  {
   "cell_type": "markdown",
   "id": "580b7afb-4ad2-4901-8ead-b23458452da7",
   "metadata": {},
   "source": [
    "Daarna kunnen de resultaten in een overzichtskaart gevisualiseerd worden. De gebruiker kan hierbij de interesseperiode bepalen. Ook kan de gebruikersfunctie gekozen worden (landbouw of peilbeheer (water)). Ook dient gedefinieerd te worden of de watervraag, het wateraanbod of het watertekort gevisualiseerd dient te worden:"
   ]
  },
  {
   "cell_type": "code",
   "execution_count": null,
   "id": "2ac2f394-ad9f-46fe-a244-b6c9fd36024c",
   "metadata": {},
   "outputs": [],
   "source": [
    "periode_start = '2018-06-01'\n",
    "periode_end = '2018-08-01'\n",
    "gebruiker = 'landbouw'\n",
    "aspect = 'watertekort'\n",
    "\n",
    "# definieer kolom voor data watervraag in geodataframe\n",
    "referentie.invoerdata['schaalgebied'][f'{aspect}{gebruiker}'] = np.nan\n",
    "\n",
    "for index, row in referentie.invoerdata['schaalgebied'].iterrows():\n",
    "    key = row['CODE']\n",
    "\n",
    "    try:\n",
    "        df = pd.read_csv(fr'{ref_dir}\\mozart_schaalgebied_{key}_geschaald.csv',\n",
    "                        parse_dates=True,\n",
    "                        index_col=['TIMESTART'])\n",
    "\n",
    "        df_tekort = df.loc[periode_start:periode_end, f'watertekort_{gebruiker}']\n",
    "\n",
    "        totaal_tekort = df_tekort.sum()\n",
    "\n",
    "        referentie.invoerdata['schaalgebied'].loc[index, f'{aspect}{gebruiker}'] = totaal_tekort.item()\n",
    "\n",
    "    except FileNotFoundError:\n",
    "        print(f\"{row['CODE']} not found\")\n",
    "\n",
    "# zet watervraag om: van m^3 naar Mm^3\n",
    "referentie.invoerdata['schaalgebied'][f'{aspect}{gebruiker}_Mm3'] = referentie.invoerdata['schaalgebied'][f'{aspect}{gebruiker}']/1_000_000\n",
    "\n",
    "\n",
    "fig, ax = plt.subplots(figsize=(20, 15))\n",
    "divider = make_axes_locatable(ax)\n",
    "cax = divider.append_axes(\"right\", size=\"5%\", pad=0.2) \n",
    "cbar = referentie.invoerdata['schaalgebied'].to_crs(epsg=3857).plot(ax=ax, column=f'{aspect}{gebruiker}_Mm3', legend=True)\n",
    "cx.add_basemap(ax)\n",
    "ax.set_title(f'Watertekort {gebruiker} in periode {periode_start} - {periode_end}')\n",
    "cax.set_ylabel('Watertekort [$Mm^3$]')\n",
    "ax.set_xlabel('X-coordinaat')\n",
    "ax.set_ylabel('Y-coordinaat')\n"
   ]
  },
  {
   "cell_type": "markdown",
   "id": "04a8805c-9f6f-425c-9e88-c1d9614d0c78",
   "metadata": {},
   "source": [
    "De onzekerheid in b.v. de geschaalde watervraag op basis van onnauwkeurigheden in top10nl kan gevisualiseerd worden als een bandbreedte. Hieronder is een voorbeeld te zien voor afwateringsgebied PG0714-42:"
   ]
  },
  {
   "cell_type": "code",
   "execution_count": null,
   "id": "7064e988-6ead-4907-a255-cf2bdf0cc414",
   "metadata": {},
   "outputs": [],
   "source": [
    "#%% visualisatie van onzekerheid oppervlakte top10nl (b.v. watervraag landbouw)\n",
    "code_afwateringsgebied = 'PG0714-42'\n",
    "\n",
    "df_ref = pd.read_csv(f'{ref_dir}\\mozart_schaalgebied_{code_afwateringsgebied}_geschaald.csv', parse_dates=True, index_col=[0])\n",
    "df_min5 = pd.read_csv(f'{min5_dir}\\mozart_schaalgebied_{code_afwateringsgebied}_geschaald.csv', parse_dates=True, index_col=[0])\n",
    "df_plus5 = pd.read_csv(f'{plus5_dir}\\mozart_schaalgebied_{code_afwateringsgebied}_geschaald.csv', parse_dates=True, index_col=[0])\n",
    "\n",
    "fig, ax = plt.subplots()\n",
    "df_ref['watervraag_landbouw'].plot(ax=ax, legend=False)\n",
    "ax.fill_between(df_min5.index, df_min5['watervraag_landbouw'], df_plus5['watervraag_landbouw'], color='grey')\n"
   ]
  },
  {
   "cell_type": "markdown",
   "id": "6b373ce0-8a30-4302-85b8-886fd4916d56",
   "metadata": {},
   "source": [
    "Tot slot kunnen de klimaatscenario's gebruikt worden om de toekomstige watervraag en behorend tekort in te schatten. Hiervoor wordt een factor berekend waarmee de referentie-modelresultaten geschaald worden. Ook kan er een onzekerheidsfactor op de klimaatfactor verdisconteerd worden om een onzekerheidsschatting van de toekomstschatting te maken. Vervolgens kunnen de toekomstige watervraag en bijbehorende onzekerheidsschatting gevisualiseerd worden in een figuur."
   ]
  },
  {
   "cell_type": "code",
   "execution_count": null,
   "id": "ac0a1606-7dba-4ac3-bcbe-b2b768d24524",
   "metadata": {},
   "outputs": [],
   "source": [
    "# definieer de scenarios\n",
    "scenarios = ['REF2017', 'W2050']\n",
    "\n",
    "# definieer de map waar de scenario-data staan\n",
    "directory = os.path.join(data_path,'mozart')\n",
    "\n",
    "# bepaal factor d.m.v. klimaatscenarios\n",
    "referentie.bepaal_factor_klimaatscenarios(directory, scenarios)\n",
    "\n",
    "# definieer onzekerheid klimaatfactor\n",
    "onzekerheid_klimaat = 0.05 # 5%\n",
    "\n",
    "df_ref_watervraag_toekomst = df_ref*referentie.klimaatfactor['watervraag']\n",
    "df_min5_watervraag_toekomst = df_ref*(referentie.klimaatfactor['watervraag']-onzekerheid_klimaat)\n",
    "df_plus5_watervraag_toekomst = df_ref*(referentie.klimaatfactor['watervraag']+onzekerheid_klimaat)\n"
   ]
  },
  {
   "cell_type": "code",
   "execution_count": null,
   "id": "929187c3-d2b5-4e0d-8209-d03859a91a32",
   "metadata": {},
   "outputs": [],
   "source": [
    "#%% visualisatie van onzekerheid klimaatscenarios\n",
    "fig, ax = plt.subplots()\n",
    "\n",
    "df_ref['watervraag_landbouw'].plot(ax=ax, legend=False)\n",
    "df_ref_watervraag_toekomst['watervraag_landbouw'].plot(ax=ax, legend=False)\n",
    "ax.fill_between(df_min5.index, df_min5_watervraag_toekomst['watervraag_landbouw'], df_plus5_watervraag_toekomst['watervraag_landbouw'],\n",
    "                color='grey')"
   ]
  },
  {
   "cell_type": "markdown",
   "id": "fef09550",
   "metadata": {},
   "source": [
    "<a id='maatgevendeafaanvoer'/>"
   ]
  },
  {
   "cell_type": "markdown",
   "id": "97a01df9",
   "metadata": {},
   "source": [
    "## 3.2 Maatgevende af- en aanvoer"
   ]
  },
  {
   "cell_type": "markdown",
   "id": "4dcd91f4",
   "metadata": {},
   "source": [
    "Op basis van de laterale af- en aanvoer uit Hydromedah worden de maatgevende af- en aanvoer bepaald. De maatgevende afvoer is de dagelijks gemiddelde afvoer die 1 a 2 dagen per jaar wordt overschreden, de maatgevende aanvoer is de 10-daags gemiddelde aavvoer die ongeveer eens in de 10 jaar wordt overschreden.\n",
    "\n",
    "Hydromedah geeft de laterale afvoer per afwateringseeneheid en dat is ook de ruimtelijke eenheid waarop de resultaten worden gepresenteerd. Aanvullend is inzicht gewenst in de bijdrage van kwel/wegzijging aan de maatgevende af- en aanvoer. We bepalen dus ook de laterale af- en aanvoer waarbij we per afwateringseenheid de kwel/wegzijging van de flux af trekken. Hierbij kan de kwel/wegzijging eerst zijn gemiddeld in de tijd (dat gaat snel), of niet (langzaam). De extra rekentijd wordt veroorzaakt door het bepalen van de gemiddelde flux per afwateringseenheid; in het eeste geval hoeft dat maar één keer."
   ]
  },
  {
   "cell_type": "markdown",
   "id": "095b3530-6146-4790-bbbf-1315207b89ad",
   "metadata": {},
   "source": [
    "Kies hier het de periode waarvoor de maatgevende afvoer bepaald dient te worden. De volledige code inclusief de bepaling van de bandbreedte werkt alleen voor de historische periode."
   ]
  },
  {
   "cell_type": "code",
   "execution_count": null,
   "id": "6e7b34da-dacb-405e-b8e4-4f9b3b26250b",
   "metadata": {},
   "outputs": [],
   "source": [
    "name = \"Huidig250\"\n",
    "# name = \"WH85250\"\n",
    "# name = \"WL85250\"\n",
    "# name = \"GH85250\""
   ]
  },
  {
   "cell_type": "markdown",
   "id": "5a390fed-1aa6-4278-b5e8-c7d499bf5b93",
   "metadata": {},
   "source": [
    "We bepalen eerst de lateralen zonder kwel/wegzijging."
   ]
  },
  {
   "cell_type": "code",
   "execution_count": null,
   "id": "ad7994b3",
   "metadata": {},
   "outputs": [],
   "source": [
    "mg = Maatgevend(name=name, export_path=export_path) \n",
    "mg.get_laterals(seepage_subtracted=False)\n",
    "qnorm = mg.get_q_norm(dataset = mg.laterals)"
   ]
  },
  {
   "cell_type": "markdown",
   "id": "b164ed49",
   "metadata": {},
   "source": [
    "Bereken nu de lateralen zonder kwel/wegzijging. Deze worden ook in CSV-formaat in de export_folder geplaatst. Kies met 'mean_seepage' voor al dan niet gemiddelde kwel/wegzijging."
   ]
  },
  {
   "cell_type": "code",
   "execution_count": null,
   "id": "5a858245",
   "metadata": {},
   "outputs": [],
   "source": [
    "mg.subtract_seepage(mean_seepage = True , model_path = hydromedah_path, name=name)\n",
    "mg.get_laterals(seepage_subtracted=True, mean_seepage=True)\n",
    "qnorm_nosp = mg.get_q_norm(dataset = mg.laterals_nosp)"
   ]
  },
  {
   "cell_type": "markdown",
   "id": "07f9974a",
   "metadata": {},
   "source": [
    "We exporteren de resultaten met en zonder kwel naar shape-bestanden. Deze bevatten zowel maatgevende aan- als afvoer in zowel m3/s als l/s/ha."
   ]
  },
  {
   "cell_type": "code",
   "execution_count": null,
   "id": "9bee1711",
   "metadata": {},
   "outputs": [],
   "source": [
    "qnorm.head()"
   ]
  },
  {
   "cell_type": "code",
   "execution_count": null,
   "id": "a0a3bc20",
   "metadata": {},
   "outputs": [],
   "source": [
    "matplotlib.rcParams['figure.figsize'] = [15,10]\n",
    "fig, ax = plt.subplots(1,2)\n",
    "qnorm.plot('MQAF_LSHA',ax=ax[0],cmap='jet', vmin=0,vmax=1.5, legend=True, legend_kwds={'label': \"Qaf [l/s/ha]\",'orientation': \"horizontal\"})\n",
    "\n",
    "qnorm_nosp.plot('MQAF_LSHA',ax=ax[1],cmap='jet', vmin=0,vmax=1.5,legend=True , legend_kwds={'label': \"Qaf (geen kwel) [l/s/ha]\",'orientation': \"horizontal\"})\n",
    "fig, ax = plt.subplots(1,2)\n",
    "qnorm.plot('MQAAN_LSHA',ax=ax[0],cmap='jet',vmin=0,vmax=1, legend=True , legend_kwds={'label': \"Qaan [l/s/ha]\",'orientation': \"horizontal\"})\n",
    "qnorm_nosp.plot('MQAAN_LSHA',ax=ax[1],cmap='jet',vmin=0,vmax=1, legend=True , legend_kwds={'label': \"Qaan (geen kwel) [l/s/ha]\",'orientation': \"horizontal\"})\n"
   ]
  },
  {
   "cell_type": "markdown",
   "id": "fd7caa4e",
   "metadata": {},
   "source": [
    "Ook is er een functie ingebouwd om resultaten voor een bepaalde locatie nader te bekijken. Deze heeft als invoer het volgnummer van de afwateringseenheid in de shape (dit is wat Hydromedah als codering gebruikt). Hierbij kan alleen de ruwe data (seepage_subtracted=False), of de data zonder kwel/wegzijging (seepage_subtraced=True) geplot worden. De plaatjes worden als PNG weggeschreven naar de export map."
   ]
  },
  {
   "cell_type": "code",
   "execution_count": null,
   "id": "18776a4c",
   "metadata": {},
   "outputs": [],
   "source": [
    "%matplotlib inline\n",
    "mg.plot_location(113, seepage_subtracted=True)"
   ]
  },
  {
   "cell_type": "markdown",
   "id": "faad49a5",
   "metadata": {},
   "source": [
    "Op onderstaande manier kan een figuur worden verkregen voor alle locaties. Er zijn enkele kleine of langgerekte gebieden waaraan geen Hydromedah cel kan worden gealloceerd en waarvoor geen data beschikbaar is: deze worden overgeslagen."
   ]
  },
  {
   "cell_type": "code",
   "execution_count": null,
   "id": "b58f4ca8",
   "metadata": {},
   "outputs": [],
   "source": [
    "plotting = range(1,1800,300)\n",
    "for i in plotting:\n",
    "     try:\n",
    "         mg.plot_location(i, seepage_subtracted=True)\n",
    "     except:\n",
    "         print('Figure failed.')"
   ]
  },
  {
   "cell_type": "markdown",
   "id": "d31c05f9",
   "metadata": {},
   "source": [
    "De bandbreedte voor de Monte Carlo-analyse leiden we af uit tijdreeksen van af- en aanvoeren uit het WIS. Gevalideerde metingen zijn geaggregeerd naar afvoergebieden. De data van niet elk afvoergebied kan rechtstreeks gebruikt worden, aangezien sommige afvoergebieden op elkaar afwateren. \n",
    "\n",
    "Eerst bewerken we de de geaggregeerde metingen en maken er dataframe van af- en aanvoer van."
   ]
  },
  {
   "cell_type": "code",
   "execution_count": null,
   "id": "7bbabac1",
   "metadata": {},
   "outputs": [],
   "source": [
    "# read and preprocess the validation data\n",
    "validation_series = os.path.join(data_path,'surfacewater','debieten_afvoergebieden.csv')\n",
    "data = pd.read_csv(validation_series)\n",
    "data[data=='-999'] = np.nan\n",
    "data.drop([col for col in data.columns if 'quality' in col], axis=1, inplace=True)\n",
    "afvoer = data.iloc[:,[i for i in range(len(data.columns)) if data.iloc[0,i] == 'H.B.u.d']]\n",
    "aanvoer = data.iloc[:, [i for i in range(len(data.columns)) if data.iloc[0,i] == 'H.B.i.d']]\n",
    "afvoer.drop([0], axis=0, inplace=True)\n",
    "aanvoer.drop([0], axis=0, inplace=True)\n",
    "afvoer.index = [pd.Timestamp(data.iloc[i,0]) for i in range(len(data.iloc[1:,0]))]\n",
    "afvoer.columns = [afv.rstrip('.1') if '.1' in afv else afv for afv in afvoer.columns]\n",
    "aanvoer.index  = [pd.Timestamp(data.iloc[i,0]) for i in range(len(data.iloc[1:,0]))]"
   ]
  },
  {
   "cell_type": "markdown",
   "id": "7bf991dd",
   "metadata": {},
   "source": [
    "<a id='gxg'/>"
   ]
  },
  {
   "cell_type": "markdown",
   "id": "f2dbd11d-18d9-4870-90c4-f0a7918572bb",
   "metadata": {},
   "source": [
    "We kiezen afvoergebied Zegveld, uiteraard is hier een ander gebied voor te nemen dat geen afvoer ontvangt van bovenstroomse gebieden."
   ]
  },
  {
   "cell_type": "code",
   "execution_count": null,
   "id": "4e540ae7",
   "metadata": {},
   "outputs": [],
   "source": [
    "if name=='Huidig250':\n",
    "    afgid = 'AFVG13' # Zegveld\n",
    "    netto = mg.get_validation(afgid=afgid, afvoer=afvoer, aanvoer=aanvoer)"
   ]
  },
  {
   "cell_type": "markdown",
   "id": "3ec6ed71-5a47-40db-ac44-9666a88014b5",
   "metadata": {},
   "source": [
    "we plotten de twee reeksen en het onderlinge verschil, en bepalen de bandbreedte als die afwijking waar één standaardafwijking (67%) van de datapunten in valt."
   ]
  },
  {
   "cell_type": "code",
   "execution_count": null,
   "id": "d71a48cb",
   "metadata": {},
   "outputs": [],
   "source": [
    "if name=='Huidig250':\n",
    "    fig, axs = plt.subplots(2)\n",
    "    axs[0].plot(netto.WIS,color='blue', label='WIS')\n",
    "    axs[0].plot(netto.HYDROMEDAH,color='red', label='Hydromedah')\n",
    "    axs[0].legend()\n",
    "    axs[0].set_ylabel('Verschil [mm/d]')\n",
    "    axs[1].plot(netto.HYDROMEDAH-netto.WIS,color='black', label='Verschil')\n",
    "    mg_bandwidth = [np.percentile(netto.ERROR, 17), np.percentile(netto.ERROR, 83)]"
   ]
  },
  {
   "cell_type": "markdown",
   "id": "cd9f703f-a053-4330-88d9-0d4248c7da28",
   "metadata": {},
   "source": [
    "Deze bandbreedte combineren we met een bootstrap. We voegen de uitersten toe aan een shapefile en schrijven die weg. Dit is het eindresultaat."
   ]
  },
  {
   "cell_type": "code",
   "execution_count": null,
   "id": "5d70a431",
   "metadata": {},
   "outputs": [],
   "source": [
    "if name=='Huidig250':\n",
    "    mg_samples = sample_nauwkeurigheid(mg.laterals, mg_bandwidth, n=2)\n",
    "    (mins, maxs)  = MonteCarlo('normative', mg_samples, bootstrap_n=2, n=2)"
   ]
  },
  {
   "cell_type": "code",
   "execution_count": null,
   "id": "0af08272-dcfd-43e9-ac2b-76481ee4c981",
   "metadata": {},
   "outputs": [],
   "source": [
    "if name=='Huidig250':\n",
    "    qnorm['QAF_LSHA_MIN'] = mins[0]\n",
    "    qnorm['QAAN_LSHA_MIN'] = mins[1]\n",
    "    qnorm['QAF_LSHA_MAX'] = maxs[0]\n",
    "    qnorm['QAAN_LSHA_MAX'] = maxs[1]"
   ]
  },
  {
   "cell_type": "code",
   "execution_count": null,
   "id": "21cf88a1",
   "metadata": {},
   "outputs": [],
   "source": [
    "mg.export_shp(qnorm, 'Qm_'+name+'.shp')\n",
    "mg.export_shp(qnorm_nosp, 'Qm_'+name+'_geen_kwel.shp')"
   ]
  },
  {
   "cell_type": "markdown",
   "id": "738642a6",
   "metadata": {},
   "source": [
    "# 3.3 GxG's en grondwatertrap"
   ]
  },
  {
   "cell_type": "markdown",
   "id": "c231215f",
   "metadata": {},
   "source": [
    "Op basis van de Modflow uitvoer bepalen stellen we de volgende kaarten samen:\n",
    " - GHG (gemiddelde van de drie hoogste grondwaterstanden in een hydrologisch jaar, gemiddeld over tenminste 8 jaar);\n",
    " - GLG (gemiddelde van de drie laagste grondwaterstanden in een hydrologisch jaar, gemiddeld over tenminste 8 jaar);\n",
    " - GVG (gemiddelde grondwaterstand over 14 maart, 28  maart en 14 april, gemiddeld over tenminste 8 jaar);\n",
    " - GT (grondwatertrap, gebaseerd op de drie GxG-kaarten).\n",
    " \n",
    " We stellen eerst deze producten samen op basis van de complete meetreeks, en voegen hierna de nauwkeurigheid daaraan toe."
   ]
  },
  {
   "cell_type": "markdown",
   "id": "c1df1412",
   "metadata": {},
   "source": [
    "We maken eerst een 'groundwater' - object aan en geven de paden en naam van de Hydromedah-berekening mee. Resultaten worden naar 'export_path' geschreven."
   ]
  },
  {
   "cell_type": "code",
   "execution_count": null,
   "id": "9395fbe2",
   "metadata": {},
   "outputs": [],
   "source": [
    "# initialiseer het object. De hierboven gedefinieerde locaties voor modeluitvoer e.d. worden meegegeven.\n",
    "gw = Groundwater(model_path=hydromedah_path, export_path=export_path, name='Huidig250')"
   ]
  },
  {
   "cell_type": "markdown",
   "id": "5ecb996b",
   "metadata": {},
   "source": [
    "Haal de stijdghoogtes op uit Hydromedah."
   ]
  },
  {
   "cell_type": "code",
   "execution_count": null,
   "id": "4b6e2fcb",
   "metadata": {},
   "outputs": [],
   "source": [
    "gw.get_heads_raster()"
   ]
  },
  {
   "cell_type": "markdown",
   "id": "5acec54e",
   "metadata": {},
   "source": [
    "Bereken de GxG's. Deze worden omgerekend naar diepte onder maaiveld via een maaiveldraster. Standaard wordt het Hydromedah raster (25m) geaggregeerd naar de modelresolutie en gebruikt, maar een alternatief is op te geven."
   ]
  },
  {
   "cell_type": "code",
   "execution_count": null,
   "id": "26433345",
   "metadata": {},
   "outputs": [],
   "source": [
    "means = gw.get_gxg_raster(mv_raster=None)"
   ]
  },
  {
   "cell_type": "markdown",
   "id": "cf5e2eb8",
   "metadata": {},
   "source": [
    "Plot de resultaten:"
   ]
  },
  {
   "cell_type": "code",
   "execution_count": null,
   "id": "6156bcab",
   "metadata": {},
   "outputs": [],
   "source": [
    "matplotlib.rcParams['figure.figsize'] = [15,10]\n",
    "ax1 = plt.subplot(221)\n",
    "plt.imshow(means['ghg'], cmap='jet', vmin=0,vmax=200)\n",
    "ax1.set_title('GHG [m-mv]')\n",
    "ax2 = plt.subplot(222)\n",
    "plt.imshow(means['glg'], cmap='jet', vmin=0,vmax=200)\n",
    "ax2.set_title('GLG [m-mv]')\n",
    "ax3 = plt.subplot(223)\n",
    "plt.imshow(means['gvg'], cmap='jet', vmin=0,vmax=200)\n",
    "ax3.set_title('GVG [m-mv]')\n",
    "plt.subplots_adjust(bottom=0.1, right=0.8, top=0.9)\n",
    "cax = plt.axes([0.85, 0.1, 0.075, 0.8])\n",
    "plt.colorbar(cax=cax)\n",
    "plt.show()"
   ]
  },
  {
   "cell_type": "markdown",
   "id": "c8ea7f6b",
   "metadata": {},
   "source": [
    "Op basis van de GxG's wordt de grondwatertrappenkaart berekend. Onderstaande indeling van grondwatertrappen is aangehouden (uit: Knotters e.a. (2018), Landsdekkende, actuele informatie over grondwatertrappen digitaal\n",
    "beschikbaar, H20.)"
   ]
  },
  {
   "attachments": {
    "04751828-642b-467e-808e-5ae329e099c3.png": {
     "image/png": "[encoded data removed]"
    }
   },
   "cell_type": "markdown",
   "id": "68b945cf",
   "metadata": {},
   "source": [
    "![image.png](attachment:04751828-642b-467e-808e-5ae329e099c3.png)"
   ]
  },
  {
   "cell_type": "code",
   "execution_count": null,
   "id": "e8004719",
   "metadata": {},
   "outputs": [],
   "source": [
    "means['gt'] = gw.get_gt_raster(gxg=means)\n",
    "\n",
    "plt.imshow(means['gt'], cmap='jet', vmin=0, vmax=24)\n",
    "plt.colorbar()\n",
    "plt.show()"
   ]
  },
  {
   "cell_type": "markdown",
   "id": "abcec94b",
   "metadata": {},
   "source": [
    "Vervolgens wordt, op basis van code uit de validatie van het LHM, een validatie van Hydromedah-grondwaterstanden uitgevoerd. Hiervoor is een gecombineerde dataset samengesteld van peilbuizen in het bovenste (freatische) watervoerende pakket, voor de periode 01/01/2010 - 31/7/2021 - dezelfde periode als bovenstaande Hydromedah run. \n",
    "\n",
    "'get_validation_data' roept de code aan die is overgenomen uit het project 'validatie_LHM' om statistieken te berekenen en een vergelijkingstabel met Hydromedah te maken."
   ]
  },
  {
   "cell_type": "code",
   "execution_count": null,
   "id": "48efcf44",
   "metadata": {},
   "outputs": [],
   "source": [
    "catalogue_file = 'alle_aanwezig.csv'\n",
    "timeseries_file = 'alle_reeksen.csv'\n",
    "head_path = os.path.join(hydromedah_path, 'work', 'Huidig250', 'output', 'head')     \n",
    "gw.get_validation_data(validation_path=os.path.join(data_path,'grondwater'), catalogue=catalogue_file, timeseries=timeseries_file, head_path=head_path)"
   ]
  },
  {
   "cell_type": "markdown",
   "id": "b02b1734",
   "metadata": {},
   "source": [
    "De scripts resulteren in een groot aantal bestanden waarvan de belangrijkste de verschilstatistieken per peilbuis tussen Hydromedah en de metingen bevat. Deze lezen we in en we kiezen alleen die buizen die de filtering in de validatiescripts heeft overgelaten."
   ]
  },
  {
   "cell_type": "code",
   "execution_count": null,
   "id": "5027e2c1",
   "metadata": {},
   "outputs": [],
   "source": [
    "csvfile = os.path.join(data_path,'grondwater','results','with LHM','statistics_measured_modeled.csv')\n",
    "summary = pd.read_csv(csvfile,sep=\",\")\n",
    "summary.dropna(axis=0,inplace=True, subset=['GHG'])"
   ]
  },
  {
   "cell_type": "markdown",
   "id": "dd3ac20f",
   "metadata": {},
   "source": [
    "Het is mogelijk om voor individuele afvoergebieden de een bandbreedte te bepalen, in dat geval worden die buizen geselecteerd die erin liggen. In dit geval kiezen we voor 'all' en worden peilbuieze in he gehele beheersgebied gebruikt om een bandbreedte te bepalen. We middelen de fout (het verschil) in GHG, GVG en GLG en gebruiken als bandbreedte het 17% en 83%-percentiel zodat een standaardafwijking (67%) van de data daarbinnen valt. Deze keuze is uiteraard relatief arbitrair en is aan te passen in onderstaande code.\n",
    "\n",
    "De volledige tabel met kwaliteitsindicatoren is te vinden op bovenstaande locatie (csv-file)."
   ]
  },
  {
   "cell_type": "code",
   "execution_count": null,
   "id": "f14386e1",
   "metadata": {},
   "outputs": [],
   "source": [
    "afg = 'all'\n",
    "afgid  = os.path.join(data_path,'gis','afvoergebieden.shp')\n",
    "gdf_afg = gpd.read_file(afgid)\n",
    "if afg == 'all':\n",
    "    geom = gdf_afg.unary_union\n",
    "else:    \n",
    "    geom = gdf_afg[gdf_afg['GAFNAAM'] ==afg].geometry\n",
    "\n",
    "gdf = gpd.GeoDataFrame(summary, geometry=gpd.points_from_xy(summary.X_RD_CRD, summary.Y_RD_CRD))\n",
    "subset = gdf[gdf.geometry.within(geom)]\n",
    "means_gxg = [np.mean([i['GHG_ERROR'], i['GLG_ERROR'],i['GVG_ERROR']]) for _,i in subset.iterrows()]\n",
    "head_bandwidth = [np.percentile(means_gxg,17), np.percentile(means_gxg, 83)]\n"
   ]
  },
  {
   "cell_type": "markdown",
   "id": "711fc2e1",
   "metadata": {},
   "source": [
    "We berekenen de nauwkeurigheid uit een Monte Carlo analyse. Deze bestaat uit een aantal componenten. Met de eeerste functie worden de basisdata 'n'x verstoord door er ruis uit een uniforme verdeling met de hierboven afgeleide bandbreedte bij op te tellen."
   ]
  },
  {
   "cell_type": "code",
   "execution_count": null,
   "id": "5e512677",
   "metadata": {},
   "outputs": [],
   "source": [
    "head_samples = sample_nauwkeurigheid(gw.heads, head_bandwidth, n=5)  "
   ]
  },
  {
   "cell_type": "markdown",
   "id": "cecbdbc3",
   "metadata": {},
   "source": [
    "Deze wordt gecombineerd met een bootstrap ('bootstrap_n' willekeurige periodes van 8 jaar). Deze levert een min/max versie van de GxG's. Voor elke realisatie wordt ook de GT bepaald. "
   ]
  },
  {
   "cell_type": "code",
   "execution_count": null,
   "id": "ad3980f3",
   "metadata": {},
   "outputs": [],
   "source": [
    "(mins, maxs) = MonteCarlo('gxg', head_samples, bootstrap_n=5, n=10, model_path=hydromedah_path, model_name='Huidig250')"
   ]
  },
  {
   "cell_type": "markdown",
   "id": "18ebbc6b",
   "metadata": {},
   "source": [
    "Zowel het 'best estimate' als de bandbreedte op basis van Monte Carlo wordt weggeschreven als tif-betanden."
   ]
  },
  {
   "cell_type": "code",
   "execution_count": null,
   "id": "5d7cb0ec",
   "metadata": {},
   "outputs": [],
   "source": [
    "items = ['GHG','GLG','GVG','GT']\n",
    "name='Huidig250'\n",
    "for i in range(4):\n",
    "    gw.export_raster(means[items[i].lower()], items[i]+'_best_'+name+'.tif')\n",
    "    gw.export_raster(mins[i], items[i]+'_min_'+name+'.tif')\n",
    "    gw.export_raster(maxs[i], items[i]+'_max_'+name+'.tif')    "
   ]
  },
  {
   "cell_type": "markdown",
   "id": "6f14f92b",
   "metadata": {},
   "source": [
    "<a id='kwelwegzijging'/>"
   ]
  },
  {
   "cell_type": "markdown",
   "id": "12e49294",
   "metadata": {},
   "source": [
    "## 3.4 Kwel/wegzijging"
   ]
  },
  {
   "cell_type": "markdown",
   "id": "58d42885",
   "metadata": {},
   "source": [
    "De kwel/wegzijgingsflux wordt door Modflow berekend als opwaarste flux naar de bovenste MOdflow laag toe. Deze halen we op, en vervolgens berekenen we de kwel/wegzijging per seizoen. We gaan uit van zes seizoenen, onderverdeeld in 4 (3-maandelijkse) of in 2 (6-maandelijkse) seizoenen:\n",
    "Vier seizoenen:\n",
    "    1 winter (DJF);\n",
    "    2 Voorjaar (MAM);\n",
    "    3 Zomer (JJA)\n",
    "    4 Najaar (SON)\n",
    "Twee seizoenen: \n",
    "    5 Winter6mnd (ONDJAM)\n",
    "    6 Groeiseizoen (AMJJAS)\n",
    "    \n",
    "De naamgeving hiervan is vrij te kiezen, maar de volgorde van deze zes seizoenen staat vast. De zes seizoenen worden eerst uit de data afgeleid daarna wordt de bandbreedte afgeleid. Ook hier is de onzekerheid moeilijk te kwantificeren: we kiezen 0.1 mm/d als bandbreedte om de modelonzekerheid te kwantificeren en trekken daar n=3 keer uit. Vervolgens passen we bootstrap_n=3 keer bootstrap toe en samplen n=5 keer uit de gecombineerde dataset."
   ]
  },
  {
   "cell_type": "code",
   "execution_count": null,
   "id": "6c163a6b",
   "metadata": {},
   "outputs": [],
   "source": [
    "# haal de data op (in mm/d)\n",
    "seepage = gw.get_seepage()\n",
    "# bepaal de seizoensgemiddelden\n",
    "means = gw.seepage_season_means(seepage)\n",
    "\n",
    "# en sample over de bandbreedte, gecombineerd met bootstrap.\n",
    "sp_samples = sample_nauwkeurigheid(seepage, [-0.5,0.5], n=3)\n",
    "(mins, maxs)  = MonteCarlo('seepage', sp_samples, bootstrap_n=3, n=5)\n",
    "\n",
    "# exprteer de rasters naar tif-bestanden.\n",
    "months = ['W','V','Z','N','GROEISEIZOEN','WINTER6']\n",
    "for i in range(6):\n",
    "    gw.export_raster(means[i], 'SP_best_'+months[i]+'_'+name+'.tif')\n",
    "    gw.export_raster(mins[i], 'SP_min_'+months[i]+'_'+name+'.tif')\n",
    "    gw.export_raster(maxs[i], 'SP_max_'+months[i]+'_'+name+'.tif')    "
   ]
  },
  {
   "cell_type": "markdown",
   "id": "2cec5d80-d954-457d-8519-e63447aeb9ba",
   "metadata": {},
   "source": [
    "Maak een figuur aan met de gemiddelde waarden:"
   ]
  },
  {
   "cell_type": "code",
   "execution_count": null,
   "id": "784e6a20",
   "metadata": {},
   "outputs": [],
   "source": [
    "matplotlib.rcParams['figure.figsize'] = [15,10]\n",
    "ax1 = plt.subplot(321)\n",
    "plt.imshow(means[0], cmap='jet_r', vmin=-1,vmax=1)\n",
    "ax1.set_title('Winter [mm/d]')\n",
    "ax2 = plt.subplot(322)\n",
    "plt.imshow(means[1], cmap='jet_r', vmin=-1,vmax=1)\n",
    "ax2.set_title('Voorjaar [mm/d]')\n",
    "ax3 = plt.subplot(323)\n",
    "plt.imshow(means[2], cmap='jet_r', vmin=-1,vmax=1)\n",
    "ax3.set_title('Zomer [mm/d]')\n",
    "ax4 = plt.subplot(324)\n",
    "plt.imshow(means[3], cmap='jet_r', vmin=-1,vmax=1)\n",
    "ax4.set_title('Najaar [mm/d]')\n",
    "ax4 = plt.subplot(325)\n",
    "plt.imshow(means[4], cmap='jet_r', vmin=-1,vmax=1)\n",
    "ax4.set_title('Groeiseizoen [mm/d]')\n",
    "ax4 = plt.subplot(326)\n",
    "plt.imshow(means[5], cmap='jet_r', vmin=-1,vmax=1)\n",
    "ax4.set_title('Rest van het jaar [mm/d]')\n",
    "\n",
    "plt.subplots_adjust(bottom=0.1, right=0.8, top=0.9)\n",
    "cax = plt.axes([0.85, 0.1, 0.075, 0.8])\n",
    "plt.colorbar(cax=cax)\n",
    "plt.show()"
   ]
  },
  {
   "cell_type": "markdown",
   "id": "f70a64ce",
   "metadata": {},
   "source": [
    "<a id='runoff'/>"
   ]
  },
  {
   "cell_type": "markdown",
   "id": "2f1d69f9",
   "metadata": {},
   "source": [
    "<a id='rivierkwel'/>"
   ]
  },
  {
   "cell_type": "markdown",
   "id": "d0c558bf",
   "metadata": {},
   "source": [
    "## 3.4 Rivierkwel"
   ]
  },
  {
   "cell_type": "markdown",
   "id": "dfdb4767",
   "metadata": {},
   "source": [
    "Naast de totale gebiedsbrede flux, is ook inzicht gewenst in de invloed van hoge Lek-waterstanden. We passen daartoe de peilen op de Lek aan met onderstaande waterstanden. Zie het rapport voor meer achtergrond."
   ]
  },
  {
   "cell_type": "code",
   "execution_count": null,
   "id": "3cbe165d",
   "metadata": {},
   "outputs": [],
   "source": [
    "offsets = [0.0]+[x-3.65 for x in [3.25, 5.14, 6.30]]\n",
    "offsetnames = ['REF','T1','T10','T100']\n",
    "for io, o in enumerate(offsets):\n",
    "    gw.prep_riverseep(offset=o, offset_name=offsetnames[io], seizoen='WINTER', export_path=os.path.join(data_path,'peilen','winter'))\n",
    "    gw.prep_riverseep(offset=o, offset_name=offsetnames[io], seizoen='ZOMER', export_path=os.path.join(data_path,'peilen','zomer'))"
   ]
  },
  {
   "cell_type": "markdown",
   "id": "59df82da-31d5-4f9b-8d7e-75b8198a871d",
   "metadata": {},
   "source": [
    "Nu wordt voor de vier herhalingstijden een Hydromedah run van één jaar gedraaid om het verschil in beeld te brengen."
   ]
  },
  {
   "cell_type": "code",
   "execution_count": null,
   "id": "8874c63b",
   "metadata": {},
   "outputs": [],
   "source": [
    "if False: # berekeningen duren lang, deze worden alleen uitgevoerd als dit statement \"True\" is.\n",
    "    for i,offset in enumerate(offsetnames):\n",
    "\n",
    "        # maak een Hydromedah object aan. Precip_path en evap_path gaan uit van de 'root' van het pad en gaat ervanuit dat 'forcing/precipiation' of 'forcing/evaporation' worden toegevoegd.\n",
    "        hydromedah = Hydromedah(data_path=hydromedah_path, name='Rivierkwel_'+offset, precip_path=hydromedah_path, evap_path=hydromedah_path)\n",
    "        # zet het model klaar. We hebben geen oppevlaktewater-model en Metaswap uitvoer nodig.\n",
    "        hydromedah.setup_model(start_date='2010-01-01', end_date='2010-12-31', resolution=250., add_surface_water=False, afw_shape = '', metaswap_vars = [])\n",
    "        # geef de zojuist geproduceerde peilen mee aan Hydromedah\n",
    "        zomerpeil = os.path.join(data_path,'peilen','zomer','ZOMER_PEIL_LAAG1_1_'+offset+'.IDF')\n",
    "        winterpeil = os.path.join(data_path,'peilen','winter','WINTER_PEIL_LAAG1_1_'+offset+'.IDF')\n",
    "        # draai het model\n",
    "        hydromedah.run_model(use_summerlevel=zomerpeil, use_winterlevel=winterpeil,silent=True )\n",
    "        # en ruim overbodige uitvoer op\n",
    "        hydromedah.cleanup(model_path=hydromedah_path, name='Rivierkwel_'+offset, \n",
    "                               modflow_vars = ['head','bdgflf'],\n",
    "                               modflow_layers = [1],\n",
    "                               metaswap_files = [])    "
   ]
  },
  {
   "cell_type": "markdown",
   "id": "bce2d997",
   "metadata": {},
   "source": [
    "Haal nu voor dezelfde zes seizoenen de kwel/wegzijging data op voor het doorgerekende jaar."
   ]
  },
  {
   "cell_type": "code",
   "execution_count": null,
   "id": "f6ce04a2",
   "metadata": {},
   "outputs": [],
   "source": [
    "seeplist = []\n",
    "for offset in offsetnames:\n",
    "    gwt = Groundwater(model_path=hydromedah_path, export_path=export_path, name='Rivierkwel_'+offset)\n",
    "    temp_seep  = gwt.get_seepage()\n",
    "    seeplist.append(gwt.seepage_season_means(temp_seep))"
   ]
  },
  {
   "cell_type": "code",
   "execution_count": null,
   "id": "b311bdc9-3f89-4419-be92-48f754e1571a",
   "metadata": {},
   "outputs": [],
   "source": [
    "months = ['W','V','Z','N','GROEISEIZOEN','WINTER6']\n",
    "name ='Huidig250'\n",
    "for i in range(0,6):\n",
    "    gw.export_raster(seeplist[1][i] - seeplist[0][i], 'SP_river_T1_'+months[i]+'_'+name+'.tif')\n",
    "    gw.export_raster(seeplist[2][i] - seeplist[0][i], 'SP_river_T10_'+months[i]+'_'+name+'.tif')\n",
    "    gw.export_raster(seeplist[3][i] - seeplist[0][i], 'SP_river_T100_'+months[i]+'_'+name+'.tif')"
   ]
  },
  {
   "cell_type": "code",
   "execution_count": null,
   "id": "01533bd6-88f7-4700-af14-00a355e177a4",
   "metadata": {},
   "outputs": [],
   "source": [
    "ax1 = plt.subplot(121)\n",
    "plt.imshow(seeplist[3][4] - seeplist[0][4], cmap='jet', vmin=-1,vmax=1)\n",
    "ax1.set_title('Groeiseizoen T100 [mm/d]')\n",
    "ax2 = plt.subplot(122)\n",
    "plt.imshow(seeplist[3][5] - seeplist[0][5], cmap='jet', vmin=-1,vmax=1)\n",
    "ax2.set_title('Rest van het jaar [mm/d]')\n",
    "plt.subplots_adjust(bottom=0.1, right=0.8, top=0.9)\n",
    "cax = plt.axes([0.85, 0.1, 0.075, 0.8])\n",
    "plt.colorbar(cax=cax)\n",
    "plt.show()"
   ]
  },
  {
   "cell_type": "markdown",
   "id": "09da9194-3c91-49a1-8d51-8b3f13a44d1d",
   "metadata": {},
   "source": [
    "<a id='runoff'/>"
   ]
  },
  {
   "cell_type": "markdown",
   "id": "40a8c00a",
   "metadata": {
    "tags": []
   },
   "source": [
    "## 3.5 Runoff karakteristieken"
   ]
  },
  {
   "cell_type": "markdown",
   "id": "68ba181d",
   "metadata": {},
   "source": [
    "<a id='runoff_ahn'/>"
   ]
  },
  {
   "cell_type": "markdown",
   "id": "a3365e14",
   "metadata": {},
   "source": [
    "### 3.5.1 AHN-analyses"
   ]
  },
  {
   "cell_type": "markdown",
   "id": "0ff07f59",
   "metadata": {},
   "source": [
    "Uit het AHN worden twee producten afgeleid (zie voor details het achtergrondrapport en het rapport van Massop e.a. (2014)):\n",
    "1) maaiveldberging;\n",
    "2) drempelhoogte voor surface runoff.\n",
    "\n",
    "Het AH-binnen de code vanuit de cloud ophalen bleek geen werkbare optie, dus de AHN-tegels dienen lokaal aanwezig te zijn. Gezien de lange rekentijd om het volledige beheersgebied door te rekenen op 0.5 x 0.5 m2 resolutie, is hier een voorbeeld van één AHN-tegel opgenomen: 'ahn3_4_hdsr_selectie.tif'. Hier hoort een uitsnede bij van de de bodemeenheden voor die tegel:'bod_clusters_hdsr_uitsnede.shp'.\n",
    "\n",
    "Het perctiel van de maaiveldcurve die voor beide gebruikt wordt is instelbaar en staat nu op 10%.\n",
    "\n",
    "We maken eerst een 'runoff' object waarin we de paden naar de in- en uitvoer mappen goed zetten. 'name' is de naam van de Hydromedah berekening, zie boven. Als gis_path leeg is, worden meegeleverde gis-bstanden in hdsrhipy gebruikt."
   ]
  },
  {
   "cell_type": "code",
   "execution_count": null,
   "id": "65873f0a",
   "metadata": {},
   "outputs": [],
   "source": [
    "r = Runoff(model_path=hydromedah_path, name='Huidig250', export_path=export_path)"
   ]
  },
  {
   "cell_type": "code",
   "execution_count": null,
   "id": "b9fb5635",
   "metadata": {},
   "outputs": [],
   "source": [
    "r.ahn_analysis(ahndata=os.path.join(data_path, 'gis','ahn3_4_hdsr_selectie.tif'),\n",
    "               bodemeenheden=os.path.join(data_path, 'gis','bod_clusters_hdsr_uitsnede.shp'), percentage=10)"
   ]
  },
  {
   "cell_type": "markdown",
   "id": "e9481e03",
   "metadata": {},
   "source": [
    "Hier uit volgt een shapefile met daarin de waarden per bodemeenheid. We bepalen de drempelhoogte als de hoogte van het opgegeven percentiel minus de minimale hoogte en de het volume normaliseren we met het totale oppervlak van de neenheid. Dit resulteert in onderstaande (voorbeeld)-tabel en figuren voor het genormaliseerde bergingsvolume (links) en de drempelhoogte (rechts)."
   ]
  },
  {
   "cell_type": "code",
   "execution_count": null,
   "id": "ee82b939",
   "metadata": {},
   "outputs": [],
   "source": [
    "matplotlib.rcParams['figure.figsize'] = (15, 10)\n",
    "#gdf = gpd.read_file(os.path.join(export_path, 'runoff','volledig/maaiveldcurve.shp'))\n",
    "gdf = gpd.read_file(os.path.join(export_path, 'runoff','hdsr_maaiveldcurves.shp'))\n",
    "gdf['drempel'] = pd.to_numeric(gdf['hoogte'])-pd.to_numeric(gdf['min_hoogte'])\n",
    "gdf['volume_norm'] = pd.to_numeric(gdf['volume']) / pd.to_numeric(gdf['Shape_Area'])\n",
    "\n",
    "fig, ax = plt.subplots(1,2)\n",
    "gdf.plot('volume_norm',ax=ax[0],cmap='jet', vmin=0, vmax=5, legend=True , legend_kwds={'label': \"Volume [m]\",'orientation': \"horizontal\"})\n",
    "gdf.plot('drempel',ax=ax[1],cmap='jet', legend=True, vmin=0, vmax=5, legend_kwds={'label': \"Drempel [m]\",'orientation': \"horizontal\"})\n",
    "gdf.head()"
   ]
  },
  {
   "cell_type": "markdown",
   "id": "f9c8e311",
   "metadata": {},
   "source": [
    "Een bandbreedte bepalen we op basis van de nauwkeurigheid in het AHN. Deze is [hier](https://www.ahn.nl/kwaliteitsbeschrijving) te vinden. Voor nu nemen we de totale fout bij 1 standaardafwijking aan, dus 10 cm in totaal. De analyse wordt dan N keer herhaald waarbij random ruis over de AHN pixels, gesampled uit de opgegeven bandbreedte, wordt gelegd, resulterend in N extra shapefiles. Door de paden te wijzen naar de volledige shape met bodemeenheden en het volledige AHN wordt dit gedaan voor het gehele beheersgebied, maar dat duurt erg lang (orde 30 uur per realisatie)."
   ]
  },
  {
   "cell_type": "code",
   "execution_count": null,
   "id": "23bbec93",
   "metadata": {},
   "outputs": [],
   "source": [
    "N=2\n",
    "for real in range(N):\n",
    "    r.ahn_analysis(ahndata=os.path.join(data_path, 'gis','ahn3_4_hdsr_selectie.tif'),\n",
    "                   bodemeenheden=os.path.join(data_path, 'gis','bod_clusters_hdsr_uitsnede.shp'), \n",
    "                   percentage=10, bandbreedte=[-0.05,0.05], realisation=real+1)"
   ]
  },
  {
   "cell_type": "markdown",
   "id": "502e8fb0",
   "metadata": {},
   "source": [
    "<a id='runoff_hydromedah'/>"
   ]
  },
  {
   "cell_type": "markdown",
   "id": "979931a4",
   "metadata": {},
   "source": [
    "### 3.5.2 Hydromedah-analyses"
   ]
  },
  {
   "cell_type": "markdown",
   "id": "b61e0560",
   "metadata": {},
   "source": [
    "De overige twee karakteristieken worden afgeleid uit de Hydromedah resultaten: berging in de wortelzone (in Metaswap 'msw_Ssd01') en infiltratie ('msw_qinf'). Deze worden uit de berekening gehaald die in bovenstaande definitie van het runoff-object is gekozen. Voor beide parameters bepalen we (ruimtelijk) zowel het gemiddelde als de minimale per seizoen, waarbij we dezelfde seizoenen hanteren als bij de kwel- en wegzijgingsbereking. Zomer beslaat de maanden april-september en winter oktober-maart."
   ]
  },
  {
   "cell_type": "code",
   "execution_count": null,
   "id": "02ac995b",
   "metadata": {},
   "outputs": [],
   "source": [
    "sd = r.get_msw_var('msw_Ssd01')\n",
    "sd_mean = r.get_season_stat(sd, stat='mean')\n",
    "sd_min = r.get_season_stat(sd, stat='min')\n",
    "\n",
    "inf = r.get_msw_var('msw_qinf')\n",
    "inf_mean = r.get_season_stat(inf, stat=\"mean\")\n",
    "inf_min = r.get_season_stat(inf, stat=\"min\")"
   ]
  },
  {
   "cell_type": "markdown",
   "id": "51e272d5",
   "metadata": {},
   "source": [
    "Analoog aan de andere producten bepalen we een bandbreedte in twee stappen. De eerste stap bevat de onnauwkeurigheid in data. Er is weinig bekend om deze op te baseren dus we zetten deze op 20 cm voor beide producten (beide hebben als eenheid meters). Vervolgens passen we op elk sample een bootstrap toe (met 3 samples) en trekken 5 samples uit de totale set. Uit alle doorgerekende mogelijkheden halen we steeds het minimum en maximum om de bandbreedte te bepalen."
   ]
  },
  {
   "cell_type": "code",
   "execution_count": null,
   "id": "bc2bdee0",
   "metadata": {},
   "outputs": [],
   "source": [
    "sd_samples = sample_nauwkeurigheid(sd, [-0.1,0.1], n=3)\n",
    "(sd_avmin, sd_avmax)  = MonteCarlo('metaswap_mean', sd_samples, bootstrap_n=3, n=5)\n",
    "(sd_minmin, sd_minmax)  = MonteCarlo('metaswap_min', sd_samples, bootstrap_n=3, n=5)\n",
    "\n",
    "inf_samples = sample_nauwkeurigheid(sd,[-0.1,0.1], n=3)\n",
    "(inf_avmin, inf_avmax)  = MonteCarlo('metaswap_mean', inf_samples, bootstrap_n=3, n=5)\n",
    "(inf_minmin, inf_minmax)  = MonteCarlo('metaswap_min', inf_samples, bootstrap_n=3, n=5)"
   ]
  },
  {
   "cell_type": "markdown",
   "id": "0141e929",
   "metadata": {},
   "source": [
    "Tot slot nemen we de shapefile met bodemeenheden en vewijderen het open water daaruit. Vervolgens aggregeren we alle bovenstaande data naar de bodemeenheden. De kolomnamen in de shapefile (max 8 karakters) zijn opgebouwd als statistiek_bandbreedte_seizoen, waarbij statistiek gemiddelde(av) of minimum (min) kan zijn, bandbreedte lower (low) of upper (upp) en seizoen zomer (S) of winter (W). Geen bandbreedte betekent dat de modeluitvoer rechtstreeks gebruikt is zonder bewerkingen."
   ]
  },
  {
   "cell_type": "code",
   "execution_count": null,
   "id": "63016e20",
   "metadata": {},
   "outputs": [],
   "source": [
    "# laad de shapefile met bodemeenheden\n",
    "be_shp = gpd.read_file(os.path.join(data_path,'gis','bod_clusters_hdsr.shp'))\n",
    "# en verwijder open water\n",
    "be_shp.drop(be_shp[be_shp['BODEMCODE']=='|g WATER'].index, axis=0, inplace=True)\n",
    "\n",
    "outdf = be_shp.copy(deep=True)\n",
    "outdf.drop([col for col in outdf.columns if col not in ['OBJECTID','BODEMCODE', 'geometry']], axis=1, inplace=True)\n",
    "outdf = r.aggregate_to_shapefile(sd_mean[0], shapefile=be_shp, output_df=outdf, outcolid='av_S')  \n",
    "outdf = r.aggregate_to_shapefile(sd_avmin[0], shapefile=be_shp, output_df=outdf, outcolid='av_low_S')  \n",
    "outdf = r.aggregate_to_shapefile(sd_avmax[0], shapefile=be_shp, output_df=outdf, outcolid='av_upp_S')  \n",
    "outdf = r.aggregate_to_shapefile(sd_min[0], shapefile=be_shp, output_df=outdf, outcolid='min_S')  \n",
    "outdf = r.aggregate_to_shapefile(sd_minmin[0], shapefile=be_shp, output_df=outdf, outcolid='min_low_S')  \n",
    "outdf = r.aggregate_to_shapefile(sd_minmax[0], shapefile=be_shp, output_df=outdf, outcolid='min_upp_S')  \n",
    "outdf = r.aggregate_to_shapefile(sd_mean[1], shapefile=be_shp, output_df=outdf, outcolid='av_W')  \n",
    "outdf = r.aggregate_to_shapefile(sd_avmin[1], shapefile=be_shp, output_df=outdf, outcolid='av_low_W')  \n",
    "outdf = r.aggregate_to_shapefile(sd_avmax[1], shapefile=be_shp, output_df=outdf, outcolid='av_upp_W')  \n",
    "outdf = r.aggregate_to_shapefile(sd_min[1], shapefile=be_shp, output_df=outdf, outcolid='min_W')  \n",
    "outdf = r.aggregate_to_shapefile(sd_minmin[1], shapefile=be_shp, output_df=outdf, outcolid='min_low_W')  \n",
    "outdf = r.aggregate_to_shapefile(sd_minmax[1], shapefile=be_shp, output_df=outdf, outcolid='min_upp_W')  \n",
    "outdf.to_file(os.path.join(export_path, 'runoff', 'runoff_karakteristieken_rzstor.shp'))\n",
    "\n",
    "outdf = be_shp.copy(deep=True)\n",
    "outdf.drop([col for col in outdf.columns if col not in ['OBJECTID','BODEMCODE', 'geometry']], axis=1, inplace=True)\n",
    "outdf = r.aggregate_to_shapefile(inf_mean[0], shapefile=be_shp, output_df=outdf, outcolid='av_S')  \n",
    "outdf = r.aggregate_to_shapefile(inf_avmin[0], shapefile=be_shp, output_df=outdf, outcolid='av_low_S')  \n",
    "outdf = r.aggregate_to_shapefile(inf_avmax[0], shapefile=be_shp, output_df=outdf, outcolid='av_upp_S')  \n",
    "outdf = r.aggregate_to_shapefile(inf_min[0], shapefile=be_shp, output_df=outdf, outcolid='min_S')  \n",
    "outdf = r.aggregate_to_shapefile(inf_minmin[0], shapefile=be_shp, output_df=outdf, outcolid='min_low_S')  \n",
    "outdf = r.aggregate_to_shapefile(inf_minmax[0], shapefile=be_shp, output_df=outdf, outcolid='min_upp_S')  \n",
    "outdf = r.aggregate_to_shapefile(inf_mean[1], shapefile=be_shp, output_df=outdf, outcolid='av_W')  \n",
    "outdf = r.aggregate_to_shapefile(inf_avmin[1], shapefile=be_shp, output_df=outdf, outcolid='av_low_W')  \n",
    "outdf = r.aggregate_to_shapefile(inf_avmax[1], shapefile=be_shp, output_df=outdf, outcolid='av_upp_W')  \n",
    "outdf = r.aggregate_to_shapefile(inf_min[1], shapefile=be_shp, output_df=outdf, outcolid='min_W')  \n",
    "outdf = r.aggregate_to_shapefile(inf_minmin[1], shapefile=be_shp, output_df=outdf, outcolid='min_low_W')  \n",
    "outdf = r.aggregate_to_shapefile(inf_minmax[1], shapefile=be_shp, output_df=outdf, outcolid='min_upp_W') \n",
    "outdf.to_file(os.path.join(export_path, 'runoff', 'runoff_karakteristieken_infiltration.shp'))\n"
   ]
  },
  {
   "cell_type": "code",
   "execution_count": null,
   "id": "55934108-057c-45c2-8ce1-3656cb25b4c4",
   "metadata": {},
   "outputs": [],
   "source": []
  }
 ],
 "metadata": {
  "kernelspec": {
   "display_name": "Python 3 (ipykernel)",
   "language": "python",
   "name": "python3"
  },
  "language_info": {
   "codemirror_mode": {
    "name": "ipython",
    "version": 3
   },
   "file_extension": ".py",
   "mimetype": "text/x-python",
   "name": "python",
   "nbconvert_exporter": "python",
   "pygments_lexer": "ipython3",
   "version": "3.11.4"
  }
 },
 "nbformat": 4,
 "nbformat_minor": 5
}
